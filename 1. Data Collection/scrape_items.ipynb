{
 "cells": [
  {
   "cell_type": "code",
   "execution_count": 3,
   "metadata": {},
   "outputs": [],
   "source": [
    "import re\n",
    "from bs4 import BeautifulSoup as bs\n",
    "from functools import reduce\n",
    "from scrap_filings_items import find_filings_paths\n",
    "import pandas as pd"
   ]
  },
  {
   "cell_type": "code",
   "execution_count": 4,
   "metadata": {},
   "outputs": [],
   "source": [
    "file_path = \"./data/10-K/19/0000001750/0001047469-19-004266/filing-details.html\""
   ]
  },
  {
   "cell_type": "code",
   "execution_count": 5,
   "metadata": {},
   "outputs": [],
   "source": [
    "with open(file_path, \"r\") as f:\n",
    "    soup = bs(f, \"html.parser\")"
   ]
  },
  {
   "cell_type": "code",
   "execution_count": 6,
   "metadata": {},
   "outputs": [],
   "source": [
    "# def find_part_start_indice(part_index, doc):\n",
    "#     if part_index == 1:\n",
    "#         return find_pattern_indices(\"PART I[\\s\\n]\", doc)[-1]\n",
    "#     elif part_index == 2:\n",
    "#         return find_pattern_indices(\"PART II[\\s\\n]\", doc)[-1]\n",
    "#     elif part_index == 3:\n",
    "#         return find_pattern_indices(\"PART III[\\s\\n]\", doc)[-1]\n",
    "#     elif part_index == 4:\n",
    "#         return find_pattern_indices(\"PART IV[\\s\\n]\", doc)[-1]\n",
    "#     else:\n",
    "#         raise Exception(f\"Part index should be in range 1 to 4, got {part_index}\")\n",
    "\n",
    "# def find_pattern_indices(pattern, doc):\n",
    "#     results = re.finditer(pattern, text)\n",
    "#     return [m.start(0) for m in results]"
   ]
  },
  {
   "cell_type": "code",
   "execution_count": 24,
   "metadata": {},
   "outputs": [],
   "source": [
    "class TenKScraper:\n",
    "    \"\"\"\n",
    "    Scraper to extract items from 10-K, here we use section name to represent item name\n",
    "    \"\"\"\n",
    "    # mapping from parts index to section name\n",
    "    __PARTS_MAPPING_SECTIONS__ = {\n",
    "        1: [\"1\", \"1A\", \"1B\", \"2\", \"3\", \"4\"],\n",
    "        2: [\"5\", \"6\", \"7\", \"7A\", \"8\", \"9\", \"9A\", \"9B\"],\n",
    "        3: [\"10\", \"11\", \"12\", \"13\", \"14\"],\n",
    "        4: [\"15\", \"16\"],\n",
    "    }\n",
    "    \n",
    "    # mapping from section name to parts index\n",
    "    __SECTION_MAPPING_PARTS__ = {s: k for (k, v) in __PARTS_MAPPING_SECTIONS__.items() for s in v}\n",
    "    \n",
    "    # all items in 10k\n",
    "    __ALL_ITEMS__ = reduce(lambda x, y: x + y, __PARTS_MAPPING_SECTIONS__.values())\n",
    "    \n",
    "    # patterns for each section\n",
    "    __SECTION_PATTENS__ = {\n",
    "        \"1\": [\n",
    "            \"\"\"[^\"“']item[\\s]*1[\\.\\s]*Business\"\"\", \n",
    "            \"\"\"[^\"“']item[\\s]*1[\\.\\s]*DESCRIPTION[\\s]+OF[\\s]+BUSINESS\"\"\"\n",
    "             ],\n",
    "        \"1A\": [\"\"\"[^\"“']item[\\s]*1A[\\.\\s]*Risk[\\s-]+Factors\"\"\"],\n",
    "        \"1B\": [\"\"\"[^\"“']item[\\s]*1B[\\.\\s]*Unresolved[\\s]+Staff[\\s]+Comments\"\"\"],\n",
    "        \"2\":[\"\"\"[^\"“']item[\\s]*2[\\.\\s]*Properties\"\"\"],\n",
    "        \"7\": [\n",
    "            \"\"\"[^\"“']ITEM[\\s]*7[\\.\\s]*MANAGEMENT[’']S[\\s]+DISCUSSION[\\s]+AND\"\"\"\n",
    "        ],\n",
    "        \"7A\": [\n",
    "            \"\"\"[^\"“']ITEM[\\s]*7A[\\.\\s]*Quantitative[\\s]+and[\\s]+Qualitative[\\s]+Disclosure[s\\s]+about[\\s]+Market[\\s]+Risk\"\"\",\n",
    "            \"\"\"[^\"“']ITEM[\\s]*7A[\\.\\s]*Quantitative[\\s]+and[\\s]+Qualitative[\\s]+Disclosures[\\s]+about[\\s]+Market[\\s]+and[\\s]+business[\\s]+Risks\"\"\"\n",
    "        ],\n",
    "        \"8\": [\"\"\"[^\"“']ITEM[\\s]*8[\\.\\s]*Financial[\\s]+Statements\"\"\"]\n",
    "    }\n",
    "    \n",
    "    def __init__(self):\n",
    "        self.doc = None\n",
    "    \n",
    "    # Helper function to check if operation can be performed\n",
    "    def _safty_check(self):\n",
    "        if self.doc is None:\n",
    "            raise Exception(\"No document found, please attach it to scraper\")\n",
    "    \n",
    "    # Locate positions of all found matches for given pattern\n",
    "    @staticmethod\n",
    "    def _find_pattern_indices(pattern, txt, ignore_case=False):\n",
    "#         print(f\"Searching pattern: {pattern}\")\n",
    "        if not ignore_case:\n",
    "            results = re.finditer(pattern, txt)\n",
    "        else:\n",
    "            results = re.finditer(pattern, txt, re.IGNORECASE)\n",
    "        return [m.start(0) for m in results]\n",
    "    \n",
    "\n",
    "    def find_next_section(self, current_section):\n",
    "        if not current_section in self.__ALL_ITEMS__:\n",
    "            raise Exception(f\"Unknown item name, available items are {cls.__ALL_ITEMS__}\")\n",
    "        \n",
    "        inc = 1\n",
    "        \n",
    "        while self.__ALL_ITEMS__.index(current_section) + inc < len(self.__ALL_ITEMS__):\n",
    "            next_section = self.__ALL_ITEMS__[self.__ALL_ITEMS__.index(current_section) + inc]\n",
    "            if re.search(f\"item[\\.\\s]*{next_section}\", self.doc, re.IGNORECASE):\n",
    "                break\n",
    "            else:\n",
    "                inc += 1\n",
    "\n",
    "        return self.__ALL_ITEMS__[self.__ALL_ITEMS__.index(current_section) + inc]\n",
    "    \n",
    "    \n",
    "    def _find_section_start_indice(self, section, part_text):\n",
    "        section_pattern = self.__SECTION_PATTENS__[section]\n",
    "        \n",
    "        section_start_indice = None\n",
    "        \n",
    "        for p in section_pattern:\n",
    "            section_start_indice = self._find_pattern_indices(p, part_text, ignore_case=True)\n",
    "            if len(section_start_indice) > 0:\n",
    "                break\n",
    "        \n",
    "#         print(section_start_indice)\n",
    "        if section_start_indice:\n",
    "            return section_start_indice[-1]\n",
    "        else:\n",
    "            print(f\"Can not found {section}.\")\n",
    "            return -1\n",
    "\n",
    "    def preprocessing_doc(self, doc):\n",
    "        self.doc = doc\n",
    "        #.replace(\"\\xa0\", \" \").replace(\"&nbsp;\", \" \").replace(\"\\ufeff\", \" \")\n",
    "    \n",
    "    def scrape(self, doc, section):\n",
    "        # replace some tedious characters\n",
    "        self.preprocessing_doc(doc)\n",
    "        \n",
    "        # find next section using the hard coded mapping, so that we find the start index of current section and\n",
    "        # next section, the desired content would locate in this range\n",
    "        next_section = self.find_next_section(section)\n",
    "        \n",
    "        # find the indices of each section\n",
    "        # 1. current section\n",
    "        current_section_start_indice = self._find_section_start_indice(section, self.doc)\n",
    "        \n",
    "        # 2. next section\n",
    "        next_section_start_indice = self._find_section_start_indice(next_section, self.doc)\n",
    "        \n",
    "        if current_section_start_indice == -1 or next_section_start_indice == -1:\n",
    "            return None\n",
    "        \n",
    "        # extract out desired text\n",
    "        start = current_section_start_indice \n",
    "        end = next_section_start_indice\n",
    "        \n",
    "        return self.doc[start:end]\n",
    "        "
   ]
  },
  {
   "cell_type": "code",
   "execution_count": 25,
   "metadata": {},
   "outputs": [],
   "source": [
    "paths = find_filings_paths(year=\"21\")"
   ]
  },
  {
   "cell_type": "code",
   "execution_count": 26,
   "metadata": {
    "scrolled": true
   },
   "outputs": [
    {
     "name": "stdout",
     "output_type": "stream",
     "text": [
      "./data/10-K/21/0001415684/0001493152-21-007088/filing-details.html -- 1 / 10\n",
      "./data/10-K/21/0000882095/0000882095-21-000008/filing-details.html -- 2 / 10\n",
      "./data/10-K/21/0000891482/0000891482-21-000020/filing-details.html -- 3 / 10\n",
      "./data/10-K/21/0001526520/0001564590-21-006939/filing-details.html -- 4 / 10\n",
      "./data/10-K/21/0000749647/0001493152-21-006382/filing-details.html -- 5 / 10\n",
      "./data/10-K/21/0001803977/0001065949-21-000040/filing-details.html -- 6 / 10\n",
      "./data/10-K/21/0001370450/0001558370-21-003104/filing-details.html -- 7 / 10\n",
      "./data/10-K/21/0000910329/0001558370-21-001985/filing-details.html -- 8 / 10\n",
      "./data/10-K/21/0001514416/0001514416-21-000092/filing-details.html -- 9 / 10\n",
      "./data/10-K/21/0001607678/0001564590-21-006406/filing-details.html -- 10 / 10\n"
     ]
    }
   ],
   "source": [
    "scraper = TenKScraper()\n",
    "target_items = [\"1A\", \"7\"]\n",
    "\n",
    "results = {\n",
    "    \"path\": [],\n",
    "}\n",
    "\n",
    "for item in target_items:\n",
    "    results[item] = []\n",
    "    \n",
    "for idx, p in enumerate(paths[:10]):\n",
    "    print(f\"{p} -- {idx + 1} / {len(paths[:10])}\")\n",
    "    try:\n",
    "        with open(p, \"r\") as f:\n",
    "            text = bs(f, \"html.parser\").text\n",
    "            for item in target_items:\n",
    "                try:\n",
    "                    res = scraper.scrape(text, item)\n",
    "                    results[item].append(res)\n",
    "                except Exception as e:\n",
    "                    results[item].append(None)\n",
    "            results[\"path\"].append(p)\n",
    "    except Exception as e:\n",
    "        print(e)\n",
    "\n",
    "df = pd.DataFrame(results)\n",
    "\n",
    "df.to_csv(\"10K-1A_7(2021).csv\")"
   ]
  },
  {
   "cell_type": "code",
   "execution_count": 14,
   "metadata": {},
   "outputs": [],
   "source": [
    "df = pd.DataFrame(results)\n",
    "\n",
    "df.to_csv(\"10K-1A_7(2020).csv\")"
   ]
  },
  {
   "cell_type": "code",
   "execution_count": 29,
   "metadata": {},
   "outputs": [],
   "source": [
    "scraper = TenKScraper()\n",
    "\n",
    "with open(\"./data/10-K/21/0001514416/0001514416-21-000092/filing-details.html\", \"r\") as f:\n",
    "    text = bs(f, \"html.parser\").get_text()\n",
    "    "
   ]
  },
  {
   "cell_type": "code",
   "execution_count": 30,
   "metadata": {},
   "outputs": [
    {
     "data": {
      "text/plain": [
       "\"sItem 7. Management’s Discussion and Analysis of Financial Condition and Results of OperationsThe following discussion and analysis of our financial condition and results of operations should be read in conjunction with our consolidated financial statements and related notes that are included elsewhere in this Annual Report on Form 10-K. This discussion contains forward-looking statements based upon current plans, expectations and beliefs that involve risks and uncertainties. Our actual results may differ materially from those anticipated in these forward-looking statements as a result of various factors, including those set forth under “Risk Factors” in this Annual Report on Form 10-K. Our fiscal year ends on December 31.OverviewWe are a leading global enterprise cloud communications company. Our solutions include a broad range of software Application Programming Interfaces (“APIs”) for voice, messaging and emergency services. Our sophisticated and easy-to-use software APIs allow enterprises to enhance their products and services by incorporating advanced, global connectivity for voice, messaging and emergency services communications capabilities. Companies use our platform to more frequently and seamlessly connect with their end users, add voice calling capabilities to applications and devices, transition from on-premise to cloud-based communication tools and applications, integrate messaging capabilities into applications or software, build interactive voice response systems for contact centers, offer end users new mobile application experiences including emergency services and improve employee productivity, among other use cases. We have established a reputation as a leader in the Communications Platform-as-a-Service (“CPaaS”) space through our innovation-rich culture and focus on empowering enterprises with end-to-end communications solutions.We are the only CPaaS provider in the industry that owns and operates a nationwide IP voice network in the U.S. In 2020 we acquired Voxbone, a leading European-based communications platform with its own IP voice network assembled by building relationships with local carriers around the globe. Our deep U.S. presence and global platform extending across more than 60 countries serves enterprises in countries representing more than 90% of global gross domestic product. We believe that our current and future customers will benefit from using a unified software platform, network and team to serve people around the world.Our voice software APIs allow enterprises to make and receive phone calls and create advanced voice experiences. Integration with our purpose-built IP voice network ensures enterprise-grade functionality and secure, high-quality connections. Our messaging software APIs provide enterprises with advanced tools to connect with end users via messaging. Our customers also use our solutions to enable 911 response capabilities, real-time provisioning and activation of phone numbers and toll-free number messaging.We believe our network is capital-efficient and supports the applications and experiences that make a difference in the way enterprises communicate. Since a communications platform is only as strong as the network that backs it, we believe our network provides a significant competitive advantage in the control, quality, pricing power and scalability of our offering. We are able to control the quality and provide the support our customers expect, while meeting regulatory, scalability and cost requirements more efficiently.For the years ended December 31, 2018, 2019 and 2020, total revenue was $204.1 million, $232.6 million and $343.1 million, respectively. For the years ended December 31, 2018, 2019 and 2020, CPaaS revenue was $164.4 million, $197.9 million and $298.1 million, respectively, representing an increase of 20% in 2019 and 51% in 2020. Net income in 2018 and 2019 was $17.9 million and $2.5 million, respectively, and net loss in 2020 was $44.0 million. As of December 31, 2018, 2019 and 2020, the number of active CPaaS customer accounts was 1,230, 1,728 and 2,848, respectively, representing a year over year increase of 40% in 2019, and 65% in 2020. Acquisition of VoxboneOn October 12, 2020, we entered into the Share Purchase Agreement pursuant to which we acquired all of the A Ordinary Shares, B Ordinary Shares and C Ordinary Shares of Voice Topco. Voice Topco directly or 66Table of ContentsManagement’s Discussion and Analysisindirectly holds all of the issued and outstanding shares of Voxbone S.A., which (with its subsidiaries) is the operating subsidiary of Voice Topco.On November 2, 2020 we completed the Share Purchase in a transaction valued at €446 million. As consideration for the Share Purchase, we (i) paid the Selling Stockholders approximately $400 million (or approximately €338 million based on prevailing exchange rates at the close of business on October 9, 2020) at the Closing and (ii) issued to the Selling Stockholders at the Closing shares of our Class A common stock, with an aggregate value of approximately €108 million (or approximately $128 million based on prevailing exchange rates at the close of business on October 9, 2020).COVID-19 UpdateIn December 2019, a novel coronavirus disease (“COVID-19”) was reported and in January 2020, the World Health Organization (“WHO”) declared it a Public Health Emergency of International Concern. On February 28, 2020, the WHO raised its assessment of the COVID-19 threat from high to very high at a global level due to the continued increase in the number of cases and affected countries, and on March 11, 2020, the WHO characterized COVID-19 as a pandemic. The circumstances caused by COVID-19 resulted in increased use of our services during the twelve months ended December 31, 2020 because of more reliance on our offerings to connect people during a time of physical distancing and work from home environments. Increased usage was mostly driven by large enterprise customers that offer unified communications as a service (“UCaaS”) and meeting solutions.  We anticipate significant usage of these services and solutions to continue until the effects of COVID-19 abate.  We believe that usage of many of these services and solutions will continue after the effects of COVID-19 abate as employees and enterprises utilize work from home arrangements more prevalently.  The broader implications of COVID-19 on our results of operations and overall financial performance remain uncertain. As a result of the COVID-19 pandemic, nearly all of our employees in the United States and Europe worked from home during the calendar year ending on December 31, 2020 and we implemented certain travel restrictions, neither of which disrupted our operations.  The COVID-19 pandemic and its adverse effects have become more prevalent in the locations where we, our customers, suppliers and third-party business partners conduct business and, as a result, we may experience disruptions in our operations. As COVID-19 effects abate, we may experience curtailed customer demand that could materially adversely impact our business, results of operations and overall financial performance in future periods. Specifically, we may experience impact from enterprises reducing usage of our services or delaying decisions to implement our services.  The effect of the COVID-19 pandemic will not be fully reflected in our results of operations and overall financial performance until future periods. See “Item 1A. Risk Factors” for further discussion of the possible impact of the COVID-19 pandemic on our business.Key Performance IndicatorsWe monitor the following key performance indicators (“KPIs”) to help us evaluate our business, identify trends affecting our business, formulate business plans, and make strategic decisions. We believe the following KPIs are useful in evaluating our business:Year ended  December 31,201820192020(Dollars in thousands)Number of active CPaaS customers (as of period end)1,230\\xa01,728\\xa02,848\\xa0Dollar-based net retention rate118\\xa0%113\\xa0%131\\xa0%Adjusted EBITDA$16,106\\xa0$(1,050)$26,176\\xa0Free cash flow$10,186\\xa0$(27,012)$(10,074)67Table of ContentsManagement’s Discussion and AnalysisNumber of Active CPaaS Customer AccountsWe believe the number of active CPaaS customer accounts is an important indicator of the growth of our business, the market acceptance of our platform and our future revenue trends. We define an active CPaaS customer account at the end of any period as an individual account, as identified by a unique account identifier, for which we have recognized at least $100 of revenue in the last month of the period. We believe that the use of our platform by active CPaaS customer accounts at or above the $100 per month threshold is a stronger indicator of potential future engagement than trial usage of our platform at levels below $100 per month. A single organization may constitute multiple unique active CPaaS customer accounts if it has multiple unique account identifiers, each of which is treated as a separate active CPaaS customer account. Customers who pay after using our platform and customers that have credit balances are included in the number of active CPaaS customer accounts. Customers from our Other segment are excluded in the number of active CPaaS customer accounts, unless they are also CPaaS customers.In the years ended December 31, 2018, 2019 and 2020, revenue from active CPaaS customer accounts represented approximately 99% of total CPaaS revenue.Dollar-Based Net Retention RateOur ability to drive growth and generate incremental revenue depends, in part, on our ability to maintain and grow our relationships with our existing customers that generate CPaaS revenue and seek to increase their use of our platform. We track our performance in this area by measuring the dollar-based net retention rate for our customers who generate CPaaS revenue. Our dollar-based net retention rate compares the CPaaS revenue from customers in a quarter to the same quarter in the prior year. To calculate the dollar-based net retention rate, we first identify the cohort of customers that generate CPaaS revenue and that were customers in the same quarter of the prior year. The dollar-based net retention rate is obtained by dividing the CPaaS revenue generated from that cohort in a quarter, by the CPaaS revenue generated from that same cohort in the corresponding quarter in the prior year. When we calculate dollar-based net retention rate for periods longer than one quarter, we use the average of the quarterly dollar-based net retention rates for the quarters in such period. Our dollar-based net retention rate increases when such customers increase usage of a product, extend usage of a product to new applications or adopt a new product. Our dollar-based net retention rate decreases when such customers cease or reduce usage of a product or when we lower prices on our solutions.As our customers grow their business and extend the use of our platform, they sometimes create multiple customer accounts with us for operational or other reasons. As such, when we identify a significant customer organization (defined as a single customer organization generating more than 1% of CPaaS revenue in a quarterly reporting period) that has created a new CPaaS customer, this new customer is tied to, and CPaaS revenue from this new customer is included with, the original CPaaS customer for the purposes of calculating this metric. Key Components of Statements of OperationsRevenueWe generate a majority of our revenue from our CPaaS segment. CPaaS revenue is derived from voice usage, phone number services, 911-enabled phone number services, messaging services and other services. We generate a portion of our CPaaS revenue from usage-based fees, which include voice calling and messaging services. For the years ended December 31, 2018, 2019 and 2020, we generated 64%, 66% and 74% of our CPaaS revenue, respectively, from usage-based fees. We also earn monthly fees from services such as phone number services and 911 access service. For the years ended December 31, 2018, 2019 and 2020, we generated 34%, 31% and 24% of our CPaaS revenue, respectively, in each period from monthly per unit fees. The remaining 2%, 3% and 2% of our CPaaS revenue is generated from other miscellaneous services.68Table of ContentsManagement’s Discussion and AnalysisThe remainder of our revenue is generated by our Other segment. Other revenue is composed of revenue earned from our legacy services and indirect revenue. Other revenue as a percentage of total revenue is expected to continue to decline over time.We recognize accounts receivable at the time the customer is invoiced. Additionally, we record a receivable and revenue for unbilled revenue if the services have been delivered and are billable in subsequent periods. Unbilled revenue made up 47%, 54% and 51% of outstanding accounts receivable, net of allowance for doubtful accounts as of December 31, 2018, 2019 and 2020, respectively.Cost of Revenue and Gross MarginCPaaS cost of revenue consists primarily of fees paid to other network service providers from whom we buy services such as minutes of use, phone numbers, messages, porting of customer numbers and network circuits. Cost of revenue also contains costs related to support of our IP voice network, web services, cloud infrastructure, capacity planning and management, rent for network facilities, software licenses, hardware and software maintenance fees and network engineering services. Personnel costs (including non-cash stock-based compensation expenses) associated with personnel who are responsible for the delivery of services, operation and maintenance of our communications network, and customer support, as well as, third-party support agreements and depreciation of network equipment, amortization of internally developed software and gain (loss) on disposal of property and equipment are also included in cost of revenue.Other cost of revenue consists of costs supporting non-CPaaS services including leased circuit costs paid to third party providers, internet connectivity expenses, minutes of use, direct operations, contractors, regulatory fees, surcharges and other pass-through costs and software and hardware maintenance fees.Gross margin is calculated by subtracting cost of revenue from revenue, divided by total revenue, expressed as a percentage. Our cost of revenue and gross margin have been, and will continue to be, affected by several factors, including the timing and extent of our investments in our network, our ability to manage off-network minutes of use and messaging costs, the product mix of revenue, the timing of amortization of capitalized software development costs and the extent to which we periodically choose to pass on any cost savings to our customers in the form of lower usage prices.Operating ExpensesThe most significant components of operating expenses are personnel costs, which consist of salaries, benefits, bonuses, and stock-based compensation expenses. We also incur other non-personnel costs related to our general overhead expenses, including facility expenses, software licenses, web services, depreciation and amortization of assets unrelated to delivery of our services. We expect that our operating expenses will increase in absolute dollars.Research and DevelopmentResearch and development (“R&D”) consists primarily of personnel costs (including non-cash stock-based compensation expenses), outsourced software development and engineering service and cloud infrastructure fees for staging and development of outsourced engineering services. We capitalize the portion of our software development costs in instances where we invest resources to develop software for internal use. We plan to continue to invest in R&D to enhance current product offerings and develop new services.Sales and MarketingSales and marketing expenses consist primarily of personnel costs, including commissions for our sales employees and non-cash stock-based compensation expenses. Sales and marketing expenses also include expenditures related to advertising, marketing, our brand awareness activities, sales support and professional services fees.69Table of ContentsManagement’s Discussion and AnalysisWe focus our sales and marketing efforts on creating sales leads and establishing and promoting our brand. We plan to continue to invest in sales and marketing in order to expand our CPaaS customer base by growing headcount, driving our go-to-market strategies, building brand awareness, advertising and sponsoring additional marketing events.General and AdministrativeGeneral and administrative expenses consist primarily of personnel costs, including stock-based compensation, for our accounting, finance, legal, human resources and administrative support personnel and executives. General and administrative expenses also include costs related to product management and reporting, customer billing and collection functions, information services, professional services fees, credit card processing fees, rent associated with our headquarters in Raleigh, North Carolina and our other offices, and depreciation and amortization. Income TaxesFor the years ended December 31, 2018, 2019 and 2020, our effective tax rate was (154.1)%, 116.4% and (51.8)%, respectively. The decrease in our effective tax rate is primarily due to the change in judgment related to the realizability of certain deferred tax assets and the resulting valuation allowance.Judgment is required in determining whether deferred tax assets will be realized in full or in part.  Management assesses the available positive and negative evidence on a jurisdictional basis to estimate if deferred tax assets will be recognized and when it is more likely than not that all or some deferred tax assets will not be realized, and a valuation allowance must be established. As of December 31, 2020, the Company continues to maintain a valuation allowance for its U.S. federal and state and U.K. net deferred tax assets.      On March 27, 2020, the Coronavirus Aid, Relief, and Economic Security (CARES) Act (the “Cares Act”) was enacted. The Cares Act includes multiple income tax provisions that impact our tax expense, such as relaxing limitations on the deductibility of interest and the use of net operating losses arising in taxable years beginning after December 31, 2017.  We have accounted for the estimated impact of the Cares Act.70Table of ContentsManagement’s Discussion and AnalysisResults of OperationsConsolidated Results of OperationsThe following table sets forth the consolidated statements of operations for the periods indicated.Year ended  December 31,201820192020(In thousands)Revenue:CPaaS revenue$164,415\\xa0$197,944\\xa0$298,090\\xa0Other revenue39,698\\xa034,650\\xa045,023\\xa0Total revenue204,113\\xa0232,594\\xa0343,113\\xa0Cost of revenue:CPaaS cost of revenue94,296\\xa0110,343\\xa0160,706\\xa0Other cost of revenue13,849\\xa014,616\\xa024,546\\xa0Total cost of revenue108,145\\xa0124,959\\xa0185,252\\xa0Gross profit:CPaaS70,119\\xa087,601\\xa0137,384\\xa0Other25,849\\xa020,034\\xa020,477\\xa0Total gross profit95,968\\xa0107,635\\xa0157,861\\xa0Operating expenses:Research and development20,897\\xa031,461\\xa042,059\\xa0Sales and marketing20,731\\xa035,020\\xa040,552\\xa0General and administrative47,588\\xa058,847\\xa088,755\\xa0Total operating expenses89,216\\xa0125,328\\xa0171,366\\xa0Operating income (loss)6,752\\xa0(17,693)(13,505)Other income (expense), netInterest income (expense), net301\\xa02,446\\xa0(13,672)Other income (expense), net—\\xa023\\xa0(1,795)Total other income (expense), net301\\xa02,469\\xa0(15,467)Income (loss) before income taxes7,053\\xa0(15,224)(28,972)Income tax benefit (provision)10,870\\xa017,718\\xa0(15,005)Net income (loss)$17,923\\xa0$2,494\\xa0$(43,977)71Table of ContentsManagement’s Discussion and AnalysisThe following table sets forth our results of operations as a percentage of our total revenue for the periods presented. *Year ended  December 31,201820192020Revenue:CPaaS revenue81\\xa0%85\\xa0%87\\xa0%Other revenue19\\xa0%15\\xa0%13\\xa0%Total revenue100\\xa0%100\\xa0%100\\xa0%Cost of revenue:CPaaS cost of revenue46\\xa0%47\\xa0%47\\xa0%Other cost of revenue7\\xa0%6\\xa0%7\\xa0%Total cost of revenue53\\xa0%53\\xa0%54\\xa0%Gross profit:CPaaS34\\xa0%37\\xa0%40\\xa0%Other13\\xa0%9\\xa0%6\\xa0%Total gross profit47\\xa0%46\\xa0%46\\xa0%Operating expenses:Research and development10\\xa0%14\\xa0%12\\xa0%Sales and marketing10\\xa0%15\\xa0%12\\xa0%General and administrative23\\xa0%24\\xa0%26\\xa0%Total operating expenses43\\xa0%53\\xa0%50\\xa0%Operating income (loss)3\\xa0%(8)%(4)%Other income (expense), netInterest income (expense), net—\\xa0%1\\xa0%(4)%Other income (expense), net—\\xa0%—\\xa0%(1)%Total other income (expense), net—\\xa0%1\\xa0%(5)%Income (loss) before income taxes3\\xa0%(7)%(8)%Income tax benefit (provision)5\\xa0%8\\xa0%(4)%Net income (loss)9\\xa0%1\\xa0%(13)%(*) Columns may not foot due to rounding. 72Table of ContentsManagement’s Discussion and AnalysisComparison of the Years Ended December 31, 2019 and 2020RevenueYear ended  December 31,20192020Change(Dollars in thousands)Revenue:CPaaS revenue$197,944\\xa0$298,090\\xa0$100,146\\xa051\\xa0%Other revenue34,650\\xa045,023\\xa010,373\\xa030\\xa0%Total revenue$232,594\\xa0$343,113\\xa0$110,519\\xa048\\xa0%In 2020, total revenue increased by $110.5 million, or 48%, compared to the same period in 2019, and CPaaS revenue increased by $100.1 million, or 51%, compared to the same period in 2019. The increase in CPaaS revenue was primarily attributable to an increase in the usage of all our service offerings, particularly our voice and messaging usage, which accounted for $58.6 million of the increase in CPaaS revenue. Messaging usage increased in the year due to higher volumes of messages related to political campaigns for the U.S. elections in November. The situation caused by COVID-19 also caused increased usage in the year because of more reliance on our offerings to connect people during a time of physical distancing and work from home environment. Increased usage was mostly driven by large enterprise customers that offer UCaaS services and meeting solutions and our phone number services. Our phone number services and 911-enabled phone number services accounted for $13.2 million of the increase in CPaaS revenue.  In 2020, CPaaS revenue also increased by $11.8 million from higher usage pricing due to a shift in product mix to products with a higher rate compared to the same period in 2019. In addition, $16.6 million of growth was attributable to the acquisition of Voxbone for the period from November 1, 2020 through December 31, 2020. The changes in usage and price in 2020 compared to the same period in 2019 were reflected in our dollar-based net retention rate of 131%. In addition, revenue from new CPaaS customers contributed $22.9 million, or 11%, to CPaaS revenue for 2020 compared to $11.7 million, or 7%, in the same period in 2019. The increase in usage was also attributable to a 65% increase in the number of active CPaaS customer accounts, from 1,728 as of December 31, 2019 to 2,848 as of December 31, 2020. As a percentage of total revenue, CPaaS revenue increased from 85% in 2019 to 87% in the same period in 2020.Other revenue increased by $10.4 million, or 30%, in 2020 due to higher indirect revenue, which increased by $12.7 million primarily due to an increase in messaging surcharges and indirect voice revenue, offset by the expected decline of legacy revenue, which decreased by $2.3 million, compared to the same period in 2019. Cost of Revenue and Gross Margin Year ended  December 31,20192020Change(Dollars in thousands)Cost of revenue:CPaaS cost of revenue$110,343\\xa0$160,706\\xa0$50,363\\xa046\\xa0%Other cost of revenue14,616\\xa024,546\\xa09,930\\xa068\\xa0%Total cost of revenue$124,959\\xa0$185,252\\xa0$60,293\\xa048\\xa0%Gross profit$107,635\\xa0$157,861\\xa0$50,226\\xa047\\xa0%Gross margin:CPaaS44\\xa0%46\\xa0%Other58\\xa0%45\\xa0%Total gross margin46\\xa0%46\\xa0%73Table of ContentsManagement’s Discussion and AnalysisIn 2020, total gross profit increased by $50.2 million, or 47%, compared to the same period in 2019. Total gross margin was 46% for both years. In 2020, CPaaS cost of revenue increased by $50.4 million, or 46%, compared to the same period in 2019. CPaaS cost of revenue increased due to an increase in voice usage costs of $25.0 million due to growth in minutes used by customers. Cost of messaging increased by $10.3 million due to growth in messages used by customers, including an increase related to political campaigns and increased cost per message. Network costs also increased $13.0 million due to network expansions and depreciation expense. Cost of phone numbers and 911 increased by $2.1 million. COVID-19 and the increased usage resulting from the work at home environment generated increased voice usage costs and network expansions. CPaaS gross margin increased from 44% in 2019 to 46% in 2020. Excluding depreciation and stock-based compensation of $6.8 million in 2019 and $9.7 million in 2020, CPaaS Non-GAAP gross margin was 48% and 50%, respectively, and total Non-GAAP gross margin was 49% for both years.In 2020, other cost of revenue increased by $9.9 million compared to the same period in 2019, primarily due to a $10.8 million increase in cost of indirect revenue related to messaging surcharges offset by a $0.9 million decrease in costs as a result of the expected churn in legacy services.Operating ExpensesYear ended  December 31,20192020Change(Dollars in thousands)Research and development$31,461\\xa0$42,059\\xa0$10,598\\xa034\\xa0%Sales and marketing35,020\\xa040,552\\xa05,532\\xa016\\xa0%General and administrative58,847\\xa088,755\\xa029,908\\xa051\\xa0%Total operating expenses$125,328\\xa0$171,366\\xa0$46,038\\xa037\\xa0%In 2020, R&D expenses related to the expansion of our product offerings increased by $10.6 million, or 34%, compared to the same period in 2019. This increase was primarily due to increased personnel costs of $10.1 million including the impact of growth in headcount as a result of the Acquisition and an increase in non-headcount costs of $0.5 million.In 2020, sales and marketing expenses increased by $5.5 million, or 16%, compared to the same period in 2019, primarily due to an overall increase in sales personnel costs of $6.6 million including the impact of growth in headcount as a result of the Acquisition offset by a decrease in non-headcount costs of $1.1 million. In 2020, general and administrative expenses increased by $29.9\\xa0million, or 51%, compared to the same period in 2019. This increase was due to $12.7\\xa0million in costs which consist of mainly fees for financial and legal services, due diligence services and success fees related to the acquisition of Voxbone, higher personnel cost of $11.9 million due to the impact of growth in headcount as a result of the Acquisition, depreciation and amortization costs of $3.1 million, facilities costs of $1.4 million, bank charges and license costs of $1.1 million, professional costs of $0.6 million, and expensed IT charges of $0.6 million, offset by lower other non-headcount costs of $0.9 million and travel and entertainment expenses of $0.6 million, which contributed to the overall increase in general and administrative expenses. As a percentage of revenue, total operating expenses for the years ended December 31, 2018, 2019 and 2020 increased from 43% to 53% and 50%, respectively, as operating expenditures growth exceeded corresponding growth in revenue in 2019 and 2020.Interest Income (Expense), NetIn 2020, interest expense, net increased by $16.1 million compared to the same period in 2019, due to a $0.1 million decrease in interest income from the investment of follow-on equity offering proceeds and a $16.2 million increase in interest expense related to the Convertible Notes.  See Note 9, “Debt” to the consolidated financial statements, for additional details.74Table of ContentsManagement’s Discussion and AnalysisIncome Tax Benefit (Provision)In 2020, income tax benefit decreased by $32.7 million compared to the same period in 2019. The effective tax rate for the twelve months ended December 31, 2020 was (51.8)% compared to 116.4% in the same period in 2019. The decrease in our effective tax rate is primarily due to the change in judgment related to the realizability of certain deferred tax assets and the resulting valuation allowance.Comparison of the Years Ended December 31, 2018 and 2019RevenueYear ended  December 31,20182019Change(Dollars in thousands)Revenue:CPaaS revenue$164,415\\xa0$197,944\\xa0$33,529\\xa020\\xa0%Other revenue39,698\\xa034,650\\xa0(5,048)(13)%Total revenue$204,113\\xa0$232,594\\xa0$28,481\\xa014\\xa0%In 2019, total revenue increased by $28.5 million, or 14%, compared to the same period in 2018, and CPaaS revenue increased by $33.5 million, or 20%, compared to the same period in 2018. The increase in CPaaS revenue was primarily attributable to an increase in the usage of all our service offerings, particularly our voice and messaging usage, which accounted for $34.3 million of the increase in CPaaS revenue, and our phone number services and 911-enabled phone number services, which accounted for $8.8 million of the increase in CPaaS revenue. This increase in CPaaS revenue was partially offset by $9.6 million related to pricing decreases that we have implemented over time with our customers in the form of lower usage prices to increase the reach and scale of our platform. The changes in usage and price in 2019 compared to the same period in 2018 were reflected in our dollar-based net retention rate of 113%. The increase in usage was also attributable to a 40% increase in the number of active CPaaS customer accounts, from 1,230 as of December 31, 2018 to 1,728 as of December 31, 2019. In addition, revenue from new CPaaS customers contributed $11.7 million, or 7%, to CPaaS revenue for 2019 compared to $8.7 million, or 7%, to CPaaS revenue in the same period in 2018. As a percentage of total revenue, CPaaS revenue increased from 81% in 2018 to 85% in the same period in 2019.Other revenue decreased by $5.0 million, or 13%, in 2019 due to lower indirect revenue, which decreased by $2.7 million, primarily due to the settlement of a dispute in 2018. Other revenue also decreased due to the expected decline of legacy revenue, which decreased by $2.3 million, compared to the same period in 2018.Cost of Revenue and Gross Margin Year ended  December 31,20182019Change(Dollars in thousands)Cost of revenue:CPaaS cost of revenue$94,296\\xa0$110,343\\xa0$16,047\\xa017\\xa0%Other cost of revenue13,849\\xa014,616\\xa0767\\xa06\\xa0%Total cost of revenue$108,145\\xa0$124,959\\xa0$16,814\\xa016\\xa0%Gross profit$95,968\\xa0$107,635\\xa0$11,667\\xa012\\xa0%Gross margin:CPaaS43\\xa0%44\\xa0%Other65\\xa0%58\\xa0%Total gross margin47\\xa0%46\\xa0%75Table of ContentsManagement’s Discussion and AnalysisIn 2019, total gross profit increased by $11.7 million, or 12%, compared to the same period in 2018. Total gross margin decreased from 47% to 46% during the same period, primarily from a decrease in other gross margin in 2019 as a result of higher indirect revenue in 2018 due to settlement of a dispute. In 2019, CPaaS cost of revenue increased by $16.0 million, or 17%, compared to the same period in 2018. CPaaS cost of revenue increased primarily due to an increase in voice usage costs of net $4.5 million due to growth in minutes used by customers, partially offset by a decrease in the cost per minute from vendors. Network costs also increased $8.0 million due to network expansions and personnel costs. Cost of messaging increased by $2.3 million due to growth in messages used by customers. Cost of phone numbers increased by $1.2 million. CPaaS gross margin increased from 43% in 2018 to 44% in 2019. Excluding depreciation and stock-based compensation of $4.6 million in 2018 and $6.8 million in 2019, CPaaS Non-GAAP gross margin was 45% and 48% for 2018 and 2019, respectively, and total Non-GAAP gross margin was 49% for both periods.In 2019, other cost of revenue increased by $0.8 million compared to the same period in 2018, primarily due to a $1.9 million increase in cost of indirect revenue related to messaging surcharges and cost of carrier access revenue offset by a $1.1 million decrease as a result of churn in legacy services.Operating ExpensesYear ended  December 31,20182019Change(Dollars in thousands)Research and development$20,897\\xa0$31,461\\xa0$10,564\\xa051\\xa0%Sales and marketing20,731\\xa035,020\\xa014,289\\xa069\\xa0%General and administrative47,588\\xa058,847\\xa011,259\\xa024\\xa0%Total operating expenses$89,216\\xa0$125,328\\xa0$36,112\\xa040\\xa0%In 2019, R&D expenses related to the expansion of our product offerings increased by $10.6 million, or 51%, compared to the same period in 2018. This increase was primarily due to increased personnel costs of $9.8 million and non-headcount costs of $0.8 million.In 2019, sales and marketing expenses increased by $14.3 million, or 69%, compared to the same period in 2018 primarily due to an overall increase in sales personnel costs of $11.6 million and non-headcount costs of $2.7 million. In 2019, general and administrative expenses increased by $11.3\\xa0million, or 24%, compared to the same period in 2018. This increase was due to higher personnel cost of $4.1\\xa0million, facilities expense of $1.6\\xa0million, hosted software costs of $1.4\\xa0million, higher bad debt expense of $1.1\\xa0million primarily related to a write-off with a customer, professional expenses of $1.0\\xa0million, depreciation and amortization costs of $1.0\\xa0million, other non-headcount costs of $0.8\\xa0million and bank charges and license costs of $0.3\\xa0million, which contributed to the overall increase in general and administrative expenses. Interest Income, NetIn 2019, interest income increased by $2.1 million compared to the same period in 2018, due to a $2.2\\xa0million increase in interest income from the investment of follow-on equity offering proceeds offset by $0.1\\xa0million increase in interest expense.Income Tax BenefitIn 2019, income tax benefit increased by $6.8 million compared to the same period in 2018. The effective tax rate for the twelve months ended December 31, 2019 was 116.4% compared to (154.1)% in the same period in 2018. The increase in our effective tax rate is primarily due to the change in book income before taxes.76Table of ContentsManagement’s Discussion and AnalysisQuarterly Results of OperationsThe following tables set forth our unaudited quarterly statements of operations results for each of the eight quarters ended December 31, 2020. The information for each quarter has been prepared on a basis consistent with our audited consolidated financial statements included in this Annual Report on Form 10-K, and reflect, in the opinion of management, all adjustments of a normal, recurring nature that are necessary for a fair presentation of the financial information contained in those statements. Our historical results are not necessarily indicative of the results that may be expected in the future. The following quarterly financial data should be read in conjunction with our audited consolidated financial statements included in this Annual Report on Form 10-K.Three Months EndedMarch 31,2019June 30,2019September 30,2019December 31,2019March 31,2020June 30,2020September 30,2020December 31,2020(Unaudited, in thousands, except per share amounts)Revenue:CPaaS revenue$45,013\\xa0$47,989\\xa0$51,499\\xa0$53,443\\xa0$59,121\\xa0$67,076\\xa0$73,762\\xa0$98,131\\xa0Other revenue8,308\\xa08,790\\xa08,992\\xa08,560\\xa09,397\\xa09,714\\xa010,996\\xa014,916\\xa0Total revenue53,321\\xa056,779\\xa060,491\\xa062,003\\xa068,518\\xa076,790\\xa084,758\\xa0113,047\\xa0Cost of revenue:CPaaS cost of revenue25,300\\xa026,473\\xa029,297\\xa029,273\\xa031,892\\xa037,229\\xa039,346\\xa052,239\\xa0Other cost of revenue3,466\\xa03,637\\xa03,807\\xa03,706\\xa04,467\\xa04,780\\xa06,181\\xa09,118\\xa0Total cost of revenue28,766\\xa030,110\\xa033,104\\xa032,979\\xa036,359\\xa042,009\\xa045,527\\xa061,357\\xa0Gross profit:24,555\\xa026,669\\xa027,387\\xa029,024\\xa032,159\\xa034,781\\xa039,231\\xa051,690\\xa0Operating expenses:Research and development7,717\\xa07,656\\xa07,939\\xa08,149\\xa09,530\\xa09,554\\xa010,232\\xa012,743\\xa0Sales and marketing8,349\\xa08,514\\xa08,784\\xa09,373\\xa09,417\\xa08,655\\xa09,001\\xa013,479\\xa0General and administrative14,333\\xa014,282\\xa015,269\\xa014,963\\xa016,096\\xa016,840\\xa018,134\\xa037,685\\xa0Total operating expenses30,399\\xa030,452\\xa031,992\\xa032,485\\xa035,043\\xa035,049\\xa037,367\\xa063,907\\xa0Operating (loss) income(5,844)(3,783)(4,605)(3,461)(2,884)(268)1,864\\xa0(12,217)Other income (loss):Interest income (expense), net201\\xa0719\\xa0778\\xa0748\\xa0(859)(3,864)(4,200)(4,749)Other income (expense), net—\\xa010\\xa0(1)14\\xa0(47)(4)(6)(1,738)Realized gain (loss) on investments—\\xa0—\\xa04\\xa0(4)—\\xa0—\\xa0—\\xa0—\\xa0Total other income (loss)201\\xa0729\\xa0781\\xa0758\\xa0(906)(3,868)(4,206)(6,487)Loss before income taxes(5,643)(3,054)(3,824)(2,703)(3,790)(4,136)(2,342)(18,704)Income tax benefit (provision)7,635\\xa06,526\\xa02,810\\xa0747\\xa02,732\\xa0(16,505)(10)(1,222)Net income (loss)$1,992\\xa0$3,472\\xa0$(1,014)$(1,956)$(1,058)$(20,641)$(2,352)$(19,926)Unrealized gain (loss) on marketable securities, net of income tax benefit8\\xa013\\xa0(21)1\\xa0—\\xa0—\\xa0—\\xa0—\\xa0Foreign currency translation—\\xa012\\xa0(46)75\\xa0(96)(23)139\\xa027,880\\xa0Total comprehensive income (loss), net of income tax$2,000\\xa0$3,497\\xa0$(1,081)$(1,880)$(1,154)$(20,664)$(2,213)$7,954\\xa0Net income (loss) per share:Basic$0.10\\xa0$0.15\\xa0$(0.04)$(0.08)$(0.04)$(0.86)$(0.10)$(0.81)Diluted$0.09\\xa0$0.14\\xa0$(0.04)$(0.08)$(0.04)$(0.86)$(0.10)$(0.81)77Table of ContentsManagement’s Discussion and AnalysisLiquidity and Capital ResourcesTo date, our principal sources of liquidity have been the proceeds of $74.4 million from our initial public offering in November 2017, $147.4 million from our follow-on public offering in March 2019 and $344.7 million from our issuance of the Convertible Notes in February 2020, each net of underwriting discounts and commissions, in addition to free cash flow driven by payments received from customers using our services. We believe that our cash and cash equivalents balances, our short-term investments portfolio, our credit facility and the cash flows generated by our operations will be sufficient to satisfy our anticipated cash needs for working capital and capital expenditures for at least the next 12 months. However, our belief may prove to be incorrect, and we could utilize our available financial resources sooner than we currently expect. Our future capital requirements and the adequacy of available funds will depend on many factors, including those set forth in the section titled “Risk Factors.” We may be required to seek additional equity or debt financing in order to meet these future capital requirements. In the event that additional financing is required from outside sources, we may not be able to raise it on terms acceptable to us, or at all. If we are unable to raise additional capital when desired, our business, results of operations and financial condition would be adversely affected.Statement of Cash FlowsThe following table summarizes our cash flows for the periods indicated:Year ended  December 31,201820192020(In thousands)Net cash provided by (used in) operating activities$24,633\\xa0$(1,253)$4,518\\xa0Net cash used in investing activities(31,683)(7,653)(455,085)Net cash provided by financing activities10,681\\xa0152,418\\xa0346,891\\xa0Effect of exchange rate changes on cash, cash equivalents and restricted cash—\\xa0(9)109\\xa0Net increase (decrease) in cash, cash equivalents, and restricted cash$3,631\\xa0$143,503\\xa0$(103,567)Cash Flows from Operating ActivitiesIn 2020, cash provided by operating activities was $4.5 million, consisting of net loss of $44.0 million adjusted for non-cash items. These non-cash items included depreciation and amortization expense of $16.8 million, amortization of debt discount and issuance costs of $15.6 million, deferred tax benefit of $14.3 million, stock-based compensation expenses of $9.9 million, right-of-use asset amortization of $4.8 million and loss on disposal of property and equipment of $0.3\\xa0million, offset by cash used by changes in operating assets and liabilities of $13.3 million. Cash generated in operating assets and liabilities included an increase in accrued expenses and other liabilities of $11.5 million and an increase in deferred revenue and advanced billings of $2.8 million. Offsetting these cash generating items in assets and liabilities were an increase in accounts receivable of $18.8\\xa0million, a decrease in operating right-of-use liability of $5.3 million, a increase in accounts payable of $0.3 million, an increase in prepaid expenses and other assets of $2.3 million and an increase of deferred costs of $1.6 million.In 2019, cash used in operating activities was $1.3 million, consisting of net income of $2.5 million adjusted for non-cash items. These non-cash items included depreciation and amortization expense of $9.6 million, stock-based compensation expenses of $6.6 million, right-of-use asset amortization of $4.3 million, loss on disposal of property and equipment of $0.5\\xa0million, offset by deferred tax benefit of $17.5 million, cash used by changes in 78Table of ContentsManagement’s Discussion and Analysisoperating assets and liabilities of $6.6 million, and accretion of bond discount of $0.7 million. Cash generated from operating assets and liabilities included an increase in accrued expenses and other liabilities of $5.5 million, an increase in accounts payable of $1.1 million, and an increase in deferred revenue and advanced billings of $0.6 million. Offsetting these cash generating items in assets and liabilities were an increase in accounts receivable of $6.2\\xa0million, an increase in prepaid expenses and other assets of $4.2 million, and a decrease in operating right-of-use liability of $3.4 million.In 2018, cash provided by operating activities was $24.6 million, consisting of net income of $17.9 million adjusted for non-cash items. These non-cash items included depreciation and amortization expense of $5.8 million, stock-based compensation expenses of $3.3 million, deferred tax benefit of $10.8 million and cash provided by changes in operating assets and liabilities of $8.3 million. Cash generated from operating assets and liabilities included an increase in deferred revenue and advanced billings of $6.0 million, an increase in accrued expenses and other liabilities of $4.8 million, increase in deferred rent of $2.1 million and a decrease in deferred costs of $0.2 million. Offsetting these cash generating items in assets and liabilities were an increase in accounts receivable of $2.8 million, an increase in prepaid expenses and other assets of $1.9 million and a decrease in accounts payable of $0.2 million, respectively.Cash Flows from Investing ActivitiesIn 2020, cash used in investing activities was $455.1 million mainly from the costs related to the Acquisition of $400.5 million, net of cash. In addition, cash used in investing activities was the purchase of other investments of $230.8 million, the purchase of property and equipment of $12.3 million and capitalized internally developed software costs of $2.3 million, offset by the proceeds from sales and maturities of other investments of $190.8 million.In 2019, cash used in investing activities was $7.7 million from the proceeds from the sales and maturities of marketable securities of $86.4 million, offset by the investment in marketable securities of $68.4 million, the purchase of property and equipment of $22.2 million and capitalized internally developed software costs of $3.5 million.In 2018, cash used in investing activities from continuing operations was $31.7 million from the investment in marketable securities of $35.2 million, the purchase of property and equipment of $12.4 million and capitalized internally developed software costs of $2.0 million, partially offset by maturities of marketable securities of $18.0 million.Cash Flows from Financing ActivitiesIn 2020, cash provided by financing activities was $346.9 million consisting primarily of $400.0 million in  proceeds from the issuance of the Convertible Notes and $4.1 million in proceeds from the issuance of stock options, partially offset by $43.3 million in capped call purchases, $12.0 million in payments of debt issuance cost, and $1.9 million in value of equity awards withheld for tax liabilities.In 2019, cash provided by financing activities was $152.4 million consisting primarily of $147.4\\xa0million in proceeds from the follow-on public offering, $7.4 million in proceeds from the issuance of stock options, partially offset by $1.4\\xa0million in value of equity awards withheld for tax liabilities, $0.8\\xa0million in payments related to the cost of the follow-on public offering and $0.2\\xa0million in payments of debt issuance cost.In 2018, cash provided by financing activities was $10.7 million consisting primarily of $11.1 million in proceeds from the exercises of stock options, partially offset by $0.3 million in payments related to the cost of our initial public offering and $0.1 million in payments on capital leases.DebtOn February 25, 2020, we entered into a waiver agreement, with respect to our revolving loan (the “Credit Facility”) with KeyBank National Association and Pacific Western Bank (collectively, the “Lenders”), which 79Table of ContentsManagement’s Discussion and Analysisprovided for consent to accommodate the issuance of the Convertible Notes and the Capped Calls. The waiver agreement required us to covenant with the Lenders to deposit an amount of funds into a controlled account, which restricted the ability to use such funds until the Credit Facility was paid in full or terminated. If we had failed to comply with these covenants or to make payments under our indebtedness when due, we would have been in default under that indebtedness, which could, in turn, have resulted in that indebtedness becoming immediately payable in full. On April 27, 2020, a First Amendment Agreement to the Credit Security Agreement was executed in which the Lenders consented to remove the previously existing cash collateral requirement and to terminate the previously required controlled account.As of December 31, 2020, we had $0 outstanding under the Credit Facility and were in compliance with all financial and non-financial covenants for all periods presented. The available borrowing capacity under our Credit Facility was $25.0 million as of December 31, 2020.As of December 31, 2020, the outstanding unamortized loan fees for the Credit Facility were $0.1 million and were included in prepaid expenses and other current assets, and other long-term assets in our consolidated balance sheets.On February 28, 2020, we issued $400.0 million aggregate principal amount of the Convertible Notes in a private placement to qualified institutional buyers pursuant to Rule 144A under the Securities Act, including $50.0 million aggregate principal amount of such Convertible Notes pursuant to the exercise in full of the initial purchasers’ over-allotment option. The interest on the Convertible Notes is payable semi-annually in arrears on March 1 and September 1 of each year, beginning on September\\xa01, 2020.80Table of ContentsManagement’s Discussion and AnalysisThe Convertible Notes may bear special interest under specified circumstances relating to our failure to comply with its reporting obligations under the indenture governing the Convertible Notes (the “Indenture”) or if the Convertible Notes are not freely tradeable as required by the Indenture. The Convertible Notes will mature on March\\xa01, 2026, unless earlier repurchased, redeemed by us, or converted pursuant to their terms. The total net proceeds from the Convertible Notes, after deducting initial purchaser discounts, costs related to the Capped Calls, and debt issuance costs, paid or payable by us, were approximately $344.7 million.Contractual Obligations and Other CommitmentsThe following table summarizes our non-cancellable contractual obligations as of December 31, 2020:TotalLessthan 1year1 to 3Years3 to 5YearsMorethan 5years(In thousands)Operating leases (1)$22,536\\xa0$6,408\\xa0$13,193\\xa0$2,935\\xa0$—\\xa0Finance leases (1)492\\xa0195\\xa0238\\xa059\\xa0—\\xa0Convertible Notes (2)400,000\\xa0—\\xa0—\\xa0—\\xa0400,000\\xa0Purchase obligations (3)14,278\\xa09,028\\xa04,486\\xa0762\\xa02\\xa0Total$437,306\\xa0$15,631\\xa0$17,917\\xa0$3,756\\xa0$400,002\\xa0________________________(1) Operating and finance leases represent total future minimum rent payments under non-cancellable lease agreements. (2) See Note 9, “Debt” to the consolidated financial statements included elsewhere in this Annual Report on Form 10-K, for a discussion of our Convertible Notes.(3) Purchase obligations represent total non-cancelable purchase commitments and future minimum payments under contracts to various service providers, excluding agreements that are cancellable without penalty.Off-Balance Sheet ArrangementsWe do not have any holdings in variable interest entities. With the acquisition of Voxbone, we have off-balance sheet agreements for short term office and automobile leases in the amount of $1,249 and $24, respectively, ending prior to the year ended December 31, 2021.Critical Accounting Policies and Significant Judgments and EstimatesOur consolidated financial statements are prepared in accordance with GAAP. The preparation of these financial statements requires our management to make estimates and assumptions that affect the reported amounts of assets, liabilities, revenue, costs, and expenses and related disclosures. Our estimates are based on our historical experience and on various other factors that we believe are reasonable under the circumstances, the results of which form the basis for making judgments about the carrying value of assets and liabilities that are not readily apparent from other sources. Actual results may differ from these judgments and estimates under different assumptions or conditions and any such differences may be material.We believe the accounting policies discussed below are critical to the process of making significant judgments and estimates in the preparation of our financial statements, and to understanding our historical and future performance.Revenue Recognition and Deferred RevenueWe generate revenue primarily from the sale of communication services to enterprise customers. Revenue recognition commences upon transfer of control of promised goods or services to customers in an amount that we expect to receive in exchange for those goods or services.81Table of ContentsManagement’s Discussion and AnalysisThe majority of our revenue is generated from usage-based fees earned from customers accessing our communications platform. Access to the communications platform is considered a series of distinct services, with continuous transfer of control to the customer, comprising one performance obligation. Usage-based fees are recognized in revenue in the period the traffic traverses our network.Revenue from service-based fees, such as the provision and management of phone numbers and emergency services access, is recognized on a ratable basis as the service is provided, which is typically one month.We generally enter into arrangements with customers that are typically 2 to 3 years in length with an auto-renewal feature. When required as part of providing service, revenues and associated expenses related to nonrefundable, upfront service activation and setup fees are deferred and recognized over the longer of the associated service contract period or estimated period of benefit.Our arrangements do not contain general rights of return or provide customers with the right to take possession of the software supporting the applications. Amounts that have been invoiced are recorded in accounts receivable and in revenue or deferred revenue depending on whether the revenue recognition criteria have been met.We maintain a reserve for sales credits. Credits are accounted for as variable consideration and are estimated based on several inputs including historical experience and current trends of credit issuances. Adjustments to the reserve are recorded against revenue.Business CombinationsWe use the acquisition method of accounting for business combinations which requires the tangible and intangible assets acquired and liabilities assumed to be recorded at their respective fair market value as of the acquisition date. Goodwill represents the excess of the consideration transferred over the fair value of the net assets acquired. The fair values of the assets acquired and liabilities assumed are determined based upon management's valuation and involves making significant estimates and assumptions based on facts and circumstances that existed as of the acquisition date. We use a measurement period following the acquisition date to gather information that existed as of the acquisition date that is needed to determine the fair value of the assets acquired and liabilities assumed. The measurement period ends once all information is obtained, but no later than one year from the acquisition date.Goodwill and Intangible AssetsGoodwillGoodwill represents the excess of the aggregate fair value of consideration transferred in a business combination, over the fair value of assets acquired, net of liabilities assumed. Goodwill is not amortized, but is subject to an annual impairment test. We test goodwill for impairment annually on December 31 of each calendar year or more frequently if events or changes in business circumstances indicate the asset might be impaired. Goodwill is tested for impairment at the reporting unit level. In evaluating the recoverability of goodwill, we perform a qualitative analysis to determine whether events and circumstances exist that indicate that it is more likely than not that goodwill is impaired. The qualitative factors we consider include but are not limited to, macroeconomic conditions, industry and market conditions, company-specific events and changes in circumstances. We completed our annual goodwill impairment analysis in each of the years ended December 31, 2018, 2019 and 2020 and no impairment charges were recorded. As of December 31, 2020 goodwill was $372.2 million which has been assigned to the CPaaS segment.Long-Lived AssetsLong-lived assets, including intangible assets with definite lives, are amortized over their estimated useful lives and are reviewed for impairment if indicators of impairment arise.82Table of ContentsManagement’s Discussion and AnalysisWe evaluate the recoverability of our long-lived assets for impairment whenever events or circumstances indicate that the carrying amount of the assets may not be recoverable. Recoverability of long-lived assets are measured by comparison of the carrying amount of the asset to the future undiscounted cash flows the asset is expected to generate. If the asset is considered to be impaired, the amount of any impairment is measured as the difference between the carrying value and the fair value of the impaired asset. As of December 31, 2020, intangible assets, net of accumulated amortization, were $248.1 million, which consists primarily of client relationships, client contracts and developed technology. No indicators of impairment were identified for the years ended December 31, 2018, 2019 and 2020.Internal-Use Software Development CostsInternal-use software includes software that has been acquired, internally developed, or modified exclusively to meet the Company's needs. We capitalize qualifying internal-use software development costs that are incurred during the application development stage. Capitalization of costs begins when two criteria are met: (i) the preliminary project stage is completed and (ii) it is probable that the software will be completed and used for its intended function. Capitalization ceases when the software is substantially complete and ready for its intended use, including the completion of all significant testing. We also capitalize costs related to specific upgrades and enhancements when it is probable the expenditures will result in additional functionality and expense costs incurred for maintenance and minor upgrades and enhancements. Costs related to preliminary project activities and post-implementation operating activities are expensed as incurred. As of December 31, 2020, software development costs, net of accumulated amortization, were $6.0 million. Capitalized costs of platform and other software applications are included in property and equipment. These costs are amortized over the estimated useful life of the software on a straight-line basis over three years, which is recorded in cost of revenue in the statement of operations. We evaluate the useful life of these assets on an annual basis and test for impairment whenever events or changes in circumstances occur that could impact the recoverability of these assets.Income TaxesWe account for income taxes under the asset and liability method, which requires the recognition of deferred tax assets and liabilities for the expected future tax consequences of events that are included in the financial statements. Under this method, deferred tax assets and liabilities are determined based on the differences between the financial statements and tax basis of assets and liabilities using enacted tax rates in effect for the year in which the differences are expected to reverse. The effect of a change in tax rates on deferred tax assets and liabilities is recognized in income in the period that includes the enactment date.We reduce the measurement of a deferred tax asset, if necessary, by a valuation allowance if it is more likely than not that we will not realize some or all the deferred tax asset. Quarterly, we review the deferred tax assets for recoverability based on historical taxable income, projected future taxable income, the expected timing of the reversals of existing temporary differences, the implementation of prudent and feasible tax planning strategies, and results of recent operations. The evaluation of the recoverability of deferred tax assets requires judgment in assessing future profitability. Should there be a change in the ability to recover deferred tax assets, our income tax provision would increase or decrease in the period in which the assessment is changed.We account for uncertain tax positions by recognizing the financial statement effects of a tax position only when, based upon technical merits, it is more likely than not that the position will be sustained upon examination. The tax benefit recognized is measured as the largest amount of benefit determined on a cumulative probability basis that we believe is more likely than not to be realized upon ultimate settlement of the position. We recognize potential accrued interest and penalties associated with unrecognized tax positions in income tax expense.Other Contingencies83Table of ContentsManagement’s Discussion and AnalysisWe are subject to legal proceedings and litigation arising in the ordinary course of business. Periodically, we evaluate the status of each legal matter and assess our potential financial exposure. If the potential loss from any legal proceeding or litigation is considered probable and the amount can be reasonably estimated, we accrue a liability for the estimated loss. Significant judgment is required to determine the probability of a loss and whether the amount of the loss is reasonably estimable. The outcome of any proceeding is not determinable in advance. As a result, the assessment of a potential liability and the amount of any accruals recorded are based only on the information available to us at the time. As additional information becomes available, we reassess the potential liability related to the legal proceeding or litigation, and may revise our estimates. Any revisions could have a material effect on our results of operations.We conduct operations in many tax jurisdictions throughout the United States and the rest of the world. In many of these jurisdictions, non-income-based taxes and fees, such as sales and use taxes, Value Added Taxes (“VAT”), telecommunications taxes, and regulatory fees including those associated with (or potentially associated with) VoIP telephony services or 911 services, are assessed or may be assessed on our operations. We are subject to indirect taxes, and may be subject to certain other taxes and surcharges in some of these jurisdictions. We generally bill and collect from our customers these taxes and surcharges. We record a liability for tax collected from customers, but not yet paid to the appropriate jurisdiction. In addition, we record a provision for non-income based taxes and fees in jurisdictions where it is both probable that liability has been incurred and the amount of the exposure can be reasonably estimated. As a result, we have recorded a liability of $4.7 million, $5.4 million and $9.1 million as of December 31, 2018, 2019 and 2020, respectively, included in accrued expenses and other current liabilities. These estimates are based on several key assumptions, including the taxability of our services, the jurisdictions in which we believe we have nexus and the sourcing of revenue to those jurisdictions. In the event these jurisdictions challenge our assumptions and analysis, our actual exposure could differ materially from our current estimates.Recently Issued Accounting GuidanceSee Note 2, “Summary of Significant Accounting Policies” to the consolidated financial statements included elsewhere in this Annual Report on Form 10-K, for a summary of recently adopted accounting standards and recent accounting pronouncements not yet adopted.84Table of Content\""
      ]
     },
     "execution_count": 30,
     "metadata": {},
     "output_type": "execute_result"
    }
   ],
   "source": [
    "scraper.scrape(text, \"7\")#.split()"
   ]
  },
  {
   "cell_type": "code",
   "execution_count": 586,
   "metadata": {},
   "outputs": [
    {
     "data": {
      "text/plain": [
       "3554"
      ]
     },
     "execution_count": 586,
     "metadata": {},
     "output_type": "execute_result"
    }
   ],
   "source": [
    "re.search(\"\"\"[^\"“']ITEM[\\s]*7A[\\.\\s]*Quantitative[\\s]+and[\\s]+Qualitative[\\s]+Disclosure[s\\s]+about[\\s]+Market[\\s]+Risk\"\"\", text, re.IGNORECASE).start()"
   ]
  },
  {
   "cell_type": "markdown",
   "metadata": {},
   "source": [
    "## Results"
   ]
  },
  {
   "cell_type": "code",
   "execution_count": 619,
   "metadata": {},
   "outputs": [],
   "source": [
    "result_19_10k = pd.read_csv(\"10K-1A_7(2019).csv\")"
   ]
  },
  {
   "cell_type": "code",
   "execution_count": 620,
   "metadata": {},
   "outputs": [
    {
     "data": {
      "text/html": [
       "<div>\n",
       "<style scoped>\n",
       "    .dataframe tbody tr th:only-of-type {\n",
       "        vertical-align: middle;\n",
       "    }\n",
       "\n",
       "    .dataframe tbody tr th {\n",
       "        vertical-align: top;\n",
       "    }\n",
       "\n",
       "    .dataframe thead th {\n",
       "        text-align: right;\n",
       "    }\n",
       "</style>\n",
       "<table border=\"1\" class=\"dataframe\">\n",
       "  <thead>\n",
       "    <tr style=\"text-align: right;\">\n",
       "      <th></th>\n",
       "      <th>Unnamed: 0</th>\n",
       "      <th>path</th>\n",
       "      <th>1A</th>\n",
       "      <th>7</th>\n",
       "    </tr>\n",
       "  </thead>\n",
       "  <tbody>\n",
       "    <tr>\n",
       "      <th>0</th>\n",
       "      <td>0</td>\n",
       "      <td>./data/10-K/19/0000882095/0000882095-19-000006...</td>\n",
       "      <td>3Item 1A. RISK FACTORSIn evaluating our busine...</td>\n",
       "      <td>8ITEM  7. MANAGEMENT’S DISCUSSION AND ANALYSIS...</td>\n",
       "    </tr>\n",
       "    <tr>\n",
       "      <th>1</th>\n",
       "      <td>1</td>\n",
       "      <td>./data/10-K/19/0000891482/0000891482-19-000006...</td>\n",
       "      <td>0Item 1A. Risk Factors.  An investment in our ...</td>\n",
       "      <td>Item 7. Management’s Discussion and Analysis ...</td>\n",
       "    </tr>\n",
       "    <tr>\n",
       "      <th>2</th>\n",
       "      <td>2</td>\n",
       "      <td>./data/10-K/19/0001526520/0001564590-19-003889...</td>\n",
       "      <td>Item 1A.  Risk Factors  You should consider c...</td>\n",
       "      <td>Item 7.Management’s Discussion and Analysis o...</td>\n",
       "    </tr>\n",
       "    <tr>\n",
       "      <th>3</th>\n",
       "      <td>3</td>\n",
       "      <td>./data/10-K/19/0001390844/0001390844-19-000004...</td>\n",
       "      <td>sITEM 1A.    RISK FACTORS Any of the following...</td>\n",
       "      <td>sITEM 7.MANAGEMENT'S DISCUSSION AND ANALYSIS O...</td>\n",
       "    </tr>\n",
       "    <tr>\n",
       "      <th>4</th>\n",
       "      <td>4</td>\n",
       "      <td>./data/10-K/19/0000356037/0000356037-19-000049...</td>\n",
       "      <td>Item 1A.     Risk Factors   If any of the ris...</td>\n",
       "      <td>Item 7.     Management’s Discussion and Analy...</td>\n",
       "    </tr>\n",
       "    <tr>\n",
       "      <th>...</th>\n",
       "      <td>...</td>\n",
       "      <td>...</td>\n",
       "      <td>...</td>\n",
       "      <td>...</td>\n",
       "    </tr>\n",
       "    <tr>\n",
       "      <th>3176</th>\n",
       "      <td>3176</td>\n",
       "      <td>./data/10-K/19/0001602143/0001493152-19-006430...</td>\n",
       "      <td>Item 1A. Risk Factors   Not applicable to sma...</td>\n",
       "      <td>Item 7. Management’s Discussion and Analysis ...</td>\n",
       "    </tr>\n",
       "    <tr>\n",
       "      <th>3177</th>\n",
       "      <td>3177</td>\n",
       "      <td>./data/10-K/19/0000047111/0000047111-19-000010...</td>\n",
       "      <td>5Item 1A.RISK FACTORSCautionary Note Regarding...</td>\n",
       "      <td>6Item 7.MANAGEMENT’S DISCUSSION AND ANALYSIS O...</td>\n",
       "    </tr>\n",
       "    <tr>\n",
       "      <th>3178</th>\n",
       "      <td>3178</td>\n",
       "      <td>./data/10-K/19/0001689066/0001477932-19-001148...</td>\n",
       "      <td>ITEM 1A. RISK FACTORS   We are a smaller repo...</td>\n",
       "      <td>ITEM 7. MANAGEMENT’S DISCUSSION AND ANALYSIS ...</td>\n",
       "    </tr>\n",
       "    <tr>\n",
       "      <th>3179</th>\n",
       "      <td>3179</td>\n",
       "      <td>./data/10-K/19/0000746210/0000746210-19-000009...</td>\n",
       "      <td>NaN</td>\n",
       "      <td>Item 7. Management’s Discussion and Analysis ...</td>\n",
       "    </tr>\n",
       "    <tr>\n",
       "      <th>3180</th>\n",
       "      <td>3180</td>\n",
       "      <td>./data/10-K/19/0001116132/0001116132-19-000016...</td>\n",
       "      <td>2ITEM 1A. RISK FACTORS You should consider car...</td>\n",
       "      <td>8ITEM 7. MANAGEMENT’S DISCUSSION AND ANALYSIS ...</td>\n",
       "    </tr>\n",
       "  </tbody>\n",
       "</table>\n",
       "<p>3181 rows × 4 columns</p>\n",
       "</div>"
      ],
      "text/plain": [
       "      Unnamed: 0  ...                                                  7\n",
       "0              0  ...  8ITEM  7. MANAGEMENT’S DISCUSSION AND ANALYSIS...\n",
       "1              1  ...   Item 7. Management’s Discussion and Analysis ...\n",
       "2              2  ...   Item 7.Management’s Discussion and Analysis o...\n",
       "3              3  ...  sITEM 7.MANAGEMENT'S DISCUSSION AND ANALYSIS O...\n",
       "4              4  ...   Item 7.     Management’s Discussion and Analy...\n",
       "...          ...  ...                                                ...\n",
       "3176        3176  ...   Item 7. Management’s Discussion and Analysis ...\n",
       "3177        3177  ...  6Item 7.MANAGEMENT’S DISCUSSION AND ANALYSIS O...\n",
       "3178        3178  ...   ITEM 7. MANAGEMENT’S DISCUSSION AND ANALYSIS ...\n",
       "3179        3179  ...   Item 7. Management’s Discussion and Analysis ...\n",
       "3180        3180  ...  8ITEM 7. MANAGEMENT’S DISCUSSION AND ANALYSIS ...\n",
       "\n",
       "[3181 rows x 4 columns]"
      ]
     },
     "execution_count": 620,
     "metadata": {},
     "output_type": "execute_result"
    }
   ],
   "source": [
    "result_19_10k"
   ]
  },
  {
   "cell_type": "code",
   "execution_count": 636,
   "metadata": {},
   "outputs": [
    {
     "data": {
      "text/plain": [
       "0.13171958503615216"
      ]
     },
     "execution_count": 636,
     "metadata": {},
     "output_type": "execute_result"
    }
   ],
   "source": [
    "len(result_19_10k[result_19_10k[\"1A\"].isna() | result_19_10k[\"7\"].isna()])/len(result_19_10k)"
   ]
  },
  {
   "cell_type": "code",
   "execution_count": 637,
   "metadata": {},
   "outputs": [
    {
     "data": {
      "text/plain": [
       "0.13699936427209156"
      ]
     },
     "execution_count": 637,
     "metadata": {},
     "output_type": "execute_result"
    }
   ],
   "source": [
    "result_20_10k = pd.read_csv(\"10K-1A_7(2020).csv\")\n",
    "len(result_20_10k[result_20_10k[\"1A\"].isna() | result_20_10k[\"7\"].isna()])/len(result_20_10k)"
   ]
  },
  {
   "cell_type": "code",
   "execution_count": 642,
   "metadata": {},
   "outputs": [
    {
     "data": {
      "text/plain": [
       "0.1495124593716143"
      ]
     },
     "execution_count": 642,
     "metadata": {},
     "output_type": "execute_result"
    }
   ],
   "source": [
    "result_21_10k = pd.read_csv(\"10K-1A_7(2021).csv\")\n",
    "len(result_21_10k[result_21_10k[\"1A\"].isna() | result_21_10k[\"7\"].isna()])/len(result_21_10k)"
   ]
  },
  {
   "cell_type": "code",
   "execution_count": 639,
   "metadata": {},
   "outputs": [
    {
     "data": {
      "text/plain": [
       "0.39"
      ]
     },
     "execution_count": 639,
     "metadata": {},
     "output_type": "execute_result"
    }
   ],
   "source": [
    "# the results of scraping which use html tags to find items\n",
    "result_htmltag = pd.read_csv(\"19-10k-item1A-item7.csv\")\n",
    "len(result_htmltag[result_htmltag[\"Item 1A to Item 1B\"].isna() | result_htmltag[\"Item 7 to Item 7A\"].isna()])/len(result_htmltag)"
   ]
  },
  {
   "cell_type": "code",
   "execution_count": null,
   "metadata": {},
   "outputs": [],
   "source": []
  },
  {
   "cell_type": "code",
   "execution_count": null,
   "metadata": {},
   "outputs": [],
   "source": []
  }
 ],
 "metadata": {
  "kernelspec": {
   "display_name": "Python 3",
   "language": "python",
   "name": "python3"
  },
  "language_info": {
   "codemirror_mode": {
    "name": "ipython",
    "version": 3
   },
   "file_extension": ".py",
   "mimetype": "text/x-python",
   "name": "python",
   "nbconvert_exporter": "python",
   "pygments_lexer": "ipython3",
   "version": "3.8.5"
  }
 },
 "nbformat": 4,
 "nbformat_minor": 4
}
