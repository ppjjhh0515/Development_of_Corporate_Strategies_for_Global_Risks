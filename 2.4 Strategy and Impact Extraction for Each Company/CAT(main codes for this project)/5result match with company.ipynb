{
 "cells": [
  {
   "cell_type": "code",
   "execution_count": 1,
   "metadata": {},
   "outputs": [],
   "source": [
    "import pandas as pd"
   ]
  },
  {
   "cell_type": "code",
   "execution_count": 2,
   "metadata": {},
   "outputs": [],
   "source": [
    "predictions = []\n",
    "with open('prediction_Sentence(2).txt', 'r') as f:\n",
    "    for line in f.readlines():\n",
    "        if line != '\\n':\n",
    "            predictions.append(line.strip().split('\\t'))            "
   ]
  },
  {
   "cell_type": "code",
   "execution_count": 4,
   "metadata": {},
   "outputs": [],
   "source": [
    "df = pd.DataFrame(predictions, columns=['sentence', 'aspect1','aspect2'])"
   ]
  },
  {
   "cell_type": "code",
   "execution_count": 5,
   "metadata": {},
   "outputs": [],
   "source": [
    "mapping = pd.read_csv(\"prediction_mapping.txt\",header = None)\n",
    "mapping.columns = ['path']"
   ]
  },
  {
   "cell_type": "code",
   "execution_count": 6,
   "metadata": {},
   "outputs": [
    {
     "data": {
      "text/html": [
       "<div>\n",
       "<style scoped>\n",
       "    .dataframe tbody tr th:only-of-type {\n",
       "        vertical-align: middle;\n",
       "    }\n",
       "\n",
       "    .dataframe tbody tr th {\n",
       "        vertical-align: top;\n",
       "    }\n",
       "\n",
       "    .dataframe thead th {\n",
       "        text-align: right;\n",
       "    }\n",
       "</style>\n",
       "<table border=\"1\" class=\"dataframe\">\n",
       "  <thead>\n",
       "    <tr style=\"text-align: right;\">\n",
       "      <th></th>\n",
       "      <th>path</th>\n",
       "    </tr>\n",
       "  </thead>\n",
       "  <tbody>\n",
       "    <tr>\n",
       "      <th>0</th>\n",
       "      <td>D:\\10-K\\10-K\\20\\0000001750\\0001104659-20-08531...</td>\n",
       "    </tr>\n",
       "    <tr>\n",
       "      <th>1</th>\n",
       "      <td>D:\\10-K\\10-K\\20\\0000001750\\0001104659-20-08531...</td>\n",
       "    </tr>\n",
       "    <tr>\n",
       "      <th>2</th>\n",
       "      <td>D:\\10-K\\10-K\\20\\0000001750\\0001104659-20-08531...</td>\n",
       "    </tr>\n",
       "    <tr>\n",
       "      <th>3</th>\n",
       "      <td>D:\\10-K\\10-K\\20\\0000001750\\0001104659-20-08531...</td>\n",
       "    </tr>\n",
       "    <tr>\n",
       "      <th>4</th>\n",
       "      <td>D:\\10-K\\10-K\\20\\0000001750\\0001104659-20-08531...</td>\n",
       "    </tr>\n",
       "    <tr>\n",
       "      <th>...</th>\n",
       "      <td>...</td>\n",
       "    </tr>\n",
       "    <tr>\n",
       "      <th>77258</th>\n",
       "      <td>D:\\10-K\\10-K\\20\\0001808898\\0001193125-20-25238...</td>\n",
       "    </tr>\n",
       "    <tr>\n",
       "      <th>77259</th>\n",
       "      <td>D:\\10-K\\10-K\\20\\0001808898\\0001193125-20-25238...</td>\n",
       "    </tr>\n",
       "    <tr>\n",
       "      <th>77260</th>\n",
       "      <td>D:\\10-K\\10-K\\20\\0001808898\\0001193125-20-25238...</td>\n",
       "    </tr>\n",
       "    <tr>\n",
       "      <th>77261</th>\n",
       "      <td>D:\\10-K\\10-K\\20\\0001808898\\0001193125-20-25238...</td>\n",
       "    </tr>\n",
       "    <tr>\n",
       "      <th>77262</th>\n",
       "      <td>D:\\10-K\\10-K\\20\\0001808898\\0001193125-20-25238...</td>\n",
       "    </tr>\n",
       "  </tbody>\n",
       "</table>\n",
       "<p>77263 rows × 1 columns</p>\n",
       "</div>"
      ],
      "text/plain": [
       "                                                    path\n",
       "0      D:\\10-K\\10-K\\20\\0000001750\\0001104659-20-08531...\n",
       "1      D:\\10-K\\10-K\\20\\0000001750\\0001104659-20-08531...\n",
       "2      D:\\10-K\\10-K\\20\\0000001750\\0001104659-20-08531...\n",
       "3      D:\\10-K\\10-K\\20\\0000001750\\0001104659-20-08531...\n",
       "4      D:\\10-K\\10-K\\20\\0000001750\\0001104659-20-08531...\n",
       "...                                                  ...\n",
       "77258  D:\\10-K\\10-K\\20\\0001808898\\0001193125-20-25238...\n",
       "77259  D:\\10-K\\10-K\\20\\0001808898\\0001193125-20-25238...\n",
       "77260  D:\\10-K\\10-K\\20\\0001808898\\0001193125-20-25238...\n",
       "77261  D:\\10-K\\10-K\\20\\0001808898\\0001193125-20-25238...\n",
       "77262  D:\\10-K\\10-K\\20\\0001808898\\0001193125-20-25238...\n",
       "\n",
       "[77263 rows x 1 columns]"
      ]
     },
     "execution_count": 6,
     "metadata": {},
     "output_type": "execute_result"
    }
   ],
   "source": [
    "mapping"
   ]
  },
  {
   "cell_type": "code",
   "execution_count": 7,
   "metadata": {},
   "outputs": [],
   "source": [
    "prediction_mapping = pd.concat((df, mapping), axis=1)"
   ]
  },
  {
   "cell_type": "code",
   "execution_count": 8,
   "metadata": {},
   "outputs": [],
   "source": [
    "prediction_mapping['path'] = [x.split('\\t')[0] for x in prediction_mapping.path]"
   ]
  },
  {
   "cell_type": "code",
   "execution_count": 9,
   "metadata": {},
   "outputs": [],
   "source": [
    "companies = pd.read_csv('/Users/zengxu/Desktop/2021Fall/667/10K project/10K_para_with sub domain/10K_2020_csv.csv', index_col=0)"
   ]
  },
  {
   "cell_type": "code",
   "execution_count": 10,
   "metadata": {},
   "outputs": [],
   "source": [
    "companies.drop('para_keywords', axis=1, inplace=True)"
   ]
  },
  {
   "cell_type": "code",
   "execution_count": 11,
   "metadata": {},
   "outputs": [],
   "source": [
    "sentence_prediction_result=prediction_mapping.merge(companies, left_on='path', right_on='path', how='left').drop(['path','adsh'],axis=1)"
   ]
  },
  {
   "cell_type": "code",
   "execution_count": 13,
   "metadata": {},
   "outputs": [
    {
     "data": {
      "text/html": [
       "<div>\n",
       "<style scoped>\n",
       "    .dataframe tbody tr th:only-of-type {\n",
       "        vertical-align: middle;\n",
       "    }\n",
       "\n",
       "    .dataframe tbody tr th {\n",
       "        vertical-align: top;\n",
       "    }\n",
       "\n",
       "    .dataframe thead th {\n",
       "        text-align: right;\n",
       "    }\n",
       "</style>\n",
       "<table border=\"1\" class=\"dataframe\">\n",
       "  <thead>\n",
       "    <tr style=\"text-align: right;\">\n",
       "      <th></th>\n",
       "      <th>sentence</th>\n",
       "      <th>aspect1</th>\n",
       "      <th>aspect2</th>\n",
       "      <th>CIK</th>\n",
       "      <th>company name</th>\n",
       "      <th>sic</th>\n",
       "      <th>sub-domain</th>\n",
       "    </tr>\n",
       "  </thead>\n",
       "  <tbody>\n",
       "    <tr>\n",
       "      <th>0</th>\n",
       "      <td>Upon entering the fourth quarter in March , we...</td>\n",
       "      <td>economic and market uncertainty</td>\n",
       "      <td>decrease spending</td>\n",
       "      <td>1750</td>\n",
       "      <td>AAR CORP</td>\n",
       "      <td>3720</td>\n",
       "      <td>AIRCRAFT &amp; PARTS</td>\n",
       "    </tr>\n",
       "    <tr>\n",
       "      <th>1</th>\n",
       "      <td>In response to the impact from COVID - 19 , we...</td>\n",
       "      <td>reduce expenses</td>\n",
       "      <td>hiring reducing</td>\n",
       "      <td>1750</td>\n",
       "      <td>AAR CORP</td>\n",
       "      <td>3720</td>\n",
       "      <td>AIRCRAFT &amp; PARTS</td>\n",
       "    </tr>\n",
       "    <tr>\n",
       "      <th>2</th>\n",
       "      <td>During the fourth quarter , we also exited und...</td>\n",
       "      <td>deferred arrangements</td>\n",
       "      <td>exit our joint venture investment</td>\n",
       "      <td>1750</td>\n",
       "      <td>AAR CORP</td>\n",
       "      <td>3720</td>\n",
       "      <td>AIRCRAFT &amp; PARTS</td>\n",
       "    </tr>\n",
       "    <tr>\n",
       "      <th>3</th>\n",
       "      <td>Additionally , in June 2020 , we decided to se...</td>\n",
       "      <td>focus core service</td>\n",
       "      <td>digital transformation</td>\n",
       "      <td>1750</td>\n",
       "      <td>AAR CORP</td>\n",
       "      <td>3720</td>\n",
       "      <td>AIRCRAFT &amp; PARTS</td>\n",
       "    </tr>\n",
       "    <tr>\n",
       "      <th>4</th>\n",
       "      <td>We have also taken actions to preserve flexibi...</td>\n",
       "      <td>financial flexibility</td>\n",
       "      <td>preserve flexibility liquidity</td>\n",
       "      <td>1750</td>\n",
       "      <td>AAR CORP</td>\n",
       "      <td>3720</td>\n",
       "      <td>AIRCRAFT &amp; PARTS</td>\n",
       "    </tr>\n",
       "    <tr>\n",
       "      <th>...</th>\n",
       "      <td>...</td>\n",
       "      <td>...</td>\n",
       "      <td>...</td>\n",
       "      <td>...</td>\n",
       "      <td>...</td>\n",
       "      <td>...</td>\n",
       "      <td>...</td>\n",
       "    </tr>\n",
       "    <tr>\n",
       "      <th>77258</th>\n",
       "      <td>Act also provides other non- tax benefits to a...</td>\n",
       "      <td>deferred arrangements</td>\n",
       "      <td>tax deferral</td>\n",
       "      <td>1808898</td>\n",
       "      <td>BENITEC BIOPHARMA INC.</td>\n",
       "      <td>2834</td>\n",
       "      <td>PHARMACEUTICAL PREPARATIONS</td>\n",
       "    </tr>\n",
       "    <tr>\n",
       "      <th>77259</th>\n",
       "      <td>The Company evaluated the impact of the CARES</td>\n",
       "      <td>impacted stock price</td>\n",
       "      <td>assessing impact</td>\n",
       "      <td>1808898</td>\n",
       "      <td>BENITEC BIOPHARMA INC.</td>\n",
       "      <td>2834</td>\n",
       "      <td>PHARMACEUTICAL PREPARATIONS</td>\n",
       "    </tr>\n",
       "    <tr>\n",
       "      <th>77260</th>\n",
       "      <td>Act and determined that there is no material i...</td>\n",
       "      <td>deferred arrangements</td>\n",
       "      <td>tax deferral</td>\n",
       "      <td>1808898</td>\n",
       "      <td>BENITEC BIOPHARMA INC.</td>\n",
       "      <td>2834</td>\n",
       "      <td>PHARMACEUTICAL PREPARATIONS</td>\n",
       "    </tr>\n",
       "    <tr>\n",
       "      <th>77261</th>\n",
       "      <td>The Company is closely monitoring the impact o...</td>\n",
       "      <td>adversely affect business</td>\n",
       "      <td>assessing impact</td>\n",
       "      <td>1808898</td>\n",
       "      <td>BENITEC BIOPHARMA INC.</td>\n",
       "      <td>2834</td>\n",
       "      <td>PHARMACEUTICAL PREPARATIONS</td>\n",
       "    </tr>\n",
       "    <tr>\n",
       "      <th>77262</th>\n",
       "      <td>While the Company did experience some disrupti...</td>\n",
       "      <td>negatively impacts demand</td>\n",
       "      <td>assessing impact</td>\n",
       "      <td>1808898</td>\n",
       "      <td>BENITEC BIOPHARMA INC.</td>\n",
       "      <td>2834</td>\n",
       "      <td>PHARMACEUTICAL PREPARATIONS</td>\n",
       "    </tr>\n",
       "  </tbody>\n",
       "</table>\n",
       "<p>77263 rows × 7 columns</p>\n",
       "</div>"
      ],
      "text/plain": [
       "                                                sentence  \\\n",
       "0      Upon entering the fourth quarter in March , we...   \n",
       "1      In response to the impact from COVID - 19 , we...   \n",
       "2      During the fourth quarter , we also exited und...   \n",
       "3      Additionally , in June 2020 , we decided to se...   \n",
       "4      We have also taken actions to preserve flexibi...   \n",
       "...                                                  ...   \n",
       "77258  Act also provides other non- tax benefits to a...   \n",
       "77259      The Company evaluated the impact of the CARES   \n",
       "77260  Act and determined that there is no material i...   \n",
       "77261  The Company is closely monitoring the impact o...   \n",
       "77262  While the Company did experience some disrupti...   \n",
       "\n",
       "                               aspect1                            aspect2  \\\n",
       "0      economic and market uncertainty                  decrease spending   \n",
       "1                      reduce expenses                    hiring reducing   \n",
       "2                deferred arrangements  exit our joint venture investment   \n",
       "3                   focus core service             digital transformation   \n",
       "4                financial flexibility     preserve flexibility liquidity   \n",
       "...                                ...                                ...   \n",
       "77258            deferred arrangements                       tax deferral   \n",
       "77259             impacted stock price                   assessing impact   \n",
       "77260            deferred arrangements                       tax deferral   \n",
       "77261        adversely affect business                   assessing impact   \n",
       "77262        negatively impacts demand                   assessing impact   \n",
       "\n",
       "           CIK            company name   sic                   sub-domain  \n",
       "0         1750                AAR CORP  3720             AIRCRAFT & PARTS  \n",
       "1         1750                AAR CORP  3720             AIRCRAFT & PARTS  \n",
       "2         1750                AAR CORP  3720             AIRCRAFT & PARTS  \n",
       "3         1750                AAR CORP  3720             AIRCRAFT & PARTS  \n",
       "4         1750                AAR CORP  3720             AIRCRAFT & PARTS  \n",
       "...        ...                     ...   ...                          ...  \n",
       "77258  1808898  BENITEC BIOPHARMA INC.  2834  PHARMACEUTICAL PREPARATIONS  \n",
       "77259  1808898  BENITEC BIOPHARMA INC.  2834  PHARMACEUTICAL PREPARATIONS  \n",
       "77260  1808898  BENITEC BIOPHARMA INC.  2834  PHARMACEUTICAL PREPARATIONS  \n",
       "77261  1808898  BENITEC BIOPHARMA INC.  2834  PHARMACEUTICAL PREPARATIONS  \n",
       "77262  1808898  BENITEC BIOPHARMA INC.  2834  PHARMACEUTICAL PREPARATIONS  \n",
       "\n",
       "[77263 rows x 7 columns]"
      ]
     },
     "execution_count": 13,
     "metadata": {},
     "output_type": "execute_result"
    }
   ],
   "source": [
    "sentence_prediction_result"
   ]
  },
  {
   "cell_type": "code",
   "execution_count": 12,
   "metadata": {},
   "outputs": [],
   "source": [
    "sentence_prediction_result.to_csv('sentence_level_cluster.csv')"
   ]
  },
  {
   "cell_type": "code",
   "execution_count": 123,
   "metadata": {},
   "outputs": [],
   "source": [
    "PEPSICO=sentence_prediction_result[sentence_prediction_result['company name']=='PEPSICO INC']\n",
    "COCA=sentence_prediction_result[sentence_prediction_result['company name']=='COCA COLA CO']\n",
    "JONES=sentence_prediction_result[sentence_prediction_result['company name']=='JONES SODA CO']"
   ]
  },
  {
   "cell_type": "code",
   "execution_count": 124,
   "metadata": {},
   "outputs": [],
   "source": [
    "PEPSICO.to_csv(\"PEPSICO.csv\")"
   ]
  },
  {
   "cell_type": "code",
   "execution_count": 125,
   "metadata": {},
   "outputs": [],
   "source": [
    "JONES.to_csv(\"JONES.csv\")"
   ]
  },
  {
   "cell_type": "code",
   "execution_count": 126,
   "metadata": {},
   "outputs": [],
   "source": [
    "COCA.to_csv(\"COCA.csv\")"
   ]
  },
  {
   "cell_type": "code",
   "execution_count": null,
   "metadata": {},
   "outputs": [],
   "source": []
  }
 ],
 "metadata": {
  "kernelspec": {
   "display_name": "Python 3",
   "language": "python",
   "name": "python3"
  },
  "language_info": {
   "codemirror_mode": {
    "name": "ipython",
    "version": 3
   },
   "file_extension": ".py",
   "mimetype": "text/x-python",
   "name": "python",
   "nbconvert_exporter": "python",
   "pygments_lexer": "ipython3",
   "version": "3.8.5"
  }
 },
 "nbformat": 4,
 "nbformat_minor": 4
}
